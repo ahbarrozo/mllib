{
 "cells": [
  {
   "cell_type": "code",
   "execution_count": 1,
   "metadata": {},
   "outputs": [],
   "source": [
    "%load_ext autoreload\n",
    "%autoreload 2\n",
    "\n",
    "%matplotlib inline"
   ]
  },
  {
   "cell_type": "markdown",
   "metadata": {},
   "source": [
    "# Classifying Photos of Flowers with CNN"
   ]
  },
  {
   "cell_type": "markdown",
   "metadata": {},
   "source": [
    "In this problem, we have a bunch of photos of five types of flowers, and we want to develop a model that can recognize them. This is a daunting task, since those photos are colored, and are big. To make our life easier, we will use a pre-trained CNN: Inception v3. Let's first load a few functions:"
   ]
  },
  {
   "cell_type": "code",
   "execution_count": 42,
   "metadata": {},
   "outputs": [],
   "source": [
    "# Common imports\n",
    "import numpy as np\n",
    "import scipy\n",
    "import os\n",
    "import tensorflow as tf\n",
    "import sys\n",
    "import tarfile\n",
    "from six.moves import urllib\n",
    "\n",
    "from sklearn.datasets import load_sample_image\n",
    "from sklearn.datasets import load_sample_images\n",
    "from sklearn.preprocessing import LabelBinarizer, LabelEncoder\n",
    "from sklearn.model_selection import train_test_split\n",
    "\n",
    "# to make this notebook's output stable across runs\n",
    "def reset_graph(seed=42):\n",
    "    tf.reset_default_graph()\n",
    "    tf.set_random_seed(seed)\n",
    "    np.random.seed(seed)\n",
    "\n",
    "def plot_image(image):\n",
    "    plt.imshow(image, cmap=\"gray\", interpolation=\"nearest\")\n",
    "    plt.axis(\"off\")\n",
    "\n",
    "def plot_color_image(image):\n",
    "    plt.imshow(image.astype(np.uint8),interpolation=\"nearest\")\n",
    "    plt.axis(\"off\")    \n",
    "    \n",
    "import matplotlib\n",
    "import matplotlib.pyplot as plt\n",
    "import matplotlib.image as mpimg\n",
    "\n",
    "plt.rcParams['axes.labelsize'] = 14\n",
    "plt.rcParams['xtick.labelsize'] = 12\n",
    "plt.rcParams['ytick.labelsize'] = 12\n",
    "    \n",
    "from keras.preprocessing.image import ImageDataGenerator\n",
    "from keras.regularizers import l2\n",
    "from keras.models import Model, Input, Sequential\n",
    "from keras.layers import Conv2D, MaxPool2D, Dropout, Flatten, Dense, BatchNormalization\n",
    "from keras.optimizers import RMSprop, Adam\n",
    "from keras.callbacks import ReduceLROnPlateau, EarlyStopping\n",
    "from mllib.mycallbacks import LRFinder, SGDRScheduler\n",
    "from tensorflow.contrib.slim.nets import inception\n",
    "import tensorflow.contrib.slim as slim\n",
    "\n",
    "\n",
    "from random import shuffle"
   ]
  },
  {
   "cell_type": "markdown",
   "metadata": {
    "collapsed": true
   },
   "source": [
    "# Transfer Learning\n",
    "\n",
    "### Classifying large images using Inception v3.\n",
    "\n",
    "Before starting, since we know that we are going too use a pre-trained model, we need to know how this model was trained. Inception v3 used 299 × 299 pixel photos, with three channels (RGB), and no transparency channel. The images that the Inception model was trained on were preprocessed so that their values range from 0.0 to 1.0, so we must ensure that our images do too."
   ]
  },
  {
   "cell_type": "code",
   "execution_count": 114,
   "metadata": {},
   "outputs": [],
   "source": [
    "width = 299\n",
    "height = 299\n",
    "channels = 3"
   ]
  },
  {
   "cell_type": "markdown",
   "metadata": {},
   "source": [
    "For the transfer learning part, let's download the latest pretrained Inception v3 model: the checkpoint is available at https://github.com/tensorflow/models/tree/master/research/slim. The list of class names is available at https://goo.gl/brXRtZ, but you must insert a \"background\" class at the beginning."
   ]
  },
  {
   "cell_type": "code",
   "execution_count": 115,
   "metadata": {},
   "outputs": [],
   "source": [
    "TF_MODELS_URL = \"http://download.tensorflow.org/models\"\n",
    "INCEPTION_V3_URL = TF_MODELS_URL + \"/inception_v3_2016_08_28.tar.gz\"\n",
    "INCEPTION_PATH = os.path.join(\"datasets\", \"inception\")\n",
    "INCEPTION_V3_CHECKPOINT_PATH = os.path.join(INCEPTION_PATH, \"inception_v3.ckpt\")\n",
    "\n",
    "def download_progress(count, block_size, total_size):\n",
    "    percent = count * block_size * 100 // total_size\n",
    "    sys.stdout.write(\"\\rDownloading: {}%\".format(percent))\n",
    "    sys.stdout.flush()\n",
    "\n",
    "def fetch_pretrained_inception_v3(url=INCEPTION_V3_URL, path=INCEPTION_PATH):\n",
    "    if os.path.exists(INCEPTION_V3_CHECKPOINT_PATH):\n",
    "        print(\"Already downloaded.\")\n",
    "        return\n",
    "    os.makedirs(path, exist_ok=True)\n",
    "    tgz_path = os.path.join(path, \"inception_v3.tgz\")\n",
    "    urllib.request.urlretrieve(url, tgz_path, reporthook=download_progress)\n",
    "    inception_tgz = tarfile.open(tgz_path)\n",
    "    inception_tgz.extractall(path=path)\n",
    "    inception_tgz.close()\n",
    "    os.remove(tgz_path)"
   ]
  },
  {
   "cell_type": "code",
   "execution_count": 116,
   "metadata": {},
   "outputs": [
    {
     "name": "stdout",
     "output_type": "stream",
     "text": [
      "Already downloaded.\n"
     ]
    }
   ],
   "source": [
    "fetch_pretrained_inception_v3()"
   ]
  },
  {
   "cell_type": "markdown",
   "metadata": {},
   "source": [
    "Let's tackle a flower classification problem. First, we need to download it:"
   ]
  },
  {
   "cell_type": "code",
   "execution_count": 117,
   "metadata": {},
   "outputs": [],
   "source": [
    "FLOWERS_URL = \"http://download.tensorflow.org/example_images/flower_photos.tgz\"\n",
    "FLOWERS_PATH = os.path.join(\"datasets\", \"flowers\")\n",
    "\n",
    "def fetch_flowers(url=FLOWERS_URL, path=FLOWERS_PATH):\n",
    "    if os.path.exists(FLOWERS_PATH):\n",
    "        print(f'{FLOWERS_PATH} already exists. Please check to see if the dataset is ready')\n",
    "        return\n",
    "    os.makedirs(path, exist_ok=True)\n",
    "    tgz_path = os.path.join(path, \"flower_photos.tgz\")\n",
    "    urllib.request.urlretrieve(url, tgz_path, reporthook=download_progress)\n",
    "    flowers_tgz = tarfile.open(tgz_path)\n",
    "    flowers_tgz.extractall(path=path)\n",
    "    flowers_tgz.close()\n",
    "    os.remove(tgz_path)"
   ]
  },
  {
   "cell_type": "code",
   "execution_count": 118,
   "metadata": {},
   "outputs": [
    {
     "name": "stdout",
     "output_type": "stream",
     "text": [
      "datasets\\flowers already exists. Please check to see if the dataset is ready\n"
     ]
    }
   ],
   "source": [
    "fetch_flowers()"
   ]
  },
  {
   "cell_type": "markdown",
   "metadata": {},
   "source": [
    "Since the image dimensions vary, and that inception_v3 was trained with 299x299x3 images, we have to make sure our images have the same dimensions if we want to reuse this model. We will write simple functions for it."
   ]
  },
  {
   "cell_type": "markdown",
   "metadata": {},
   "source": [
    "Each subdirectory of the `flower_photos` directory contains all the pictures of a given class. Let's get the list of classes:"
   ]
  },
  {
   "cell_type": "code",
   "execution_count": 127,
   "metadata": {},
   "outputs": [],
   "source": [
    "PHOTOS_PATH = os.path.join(\"datasets\", \"flowers\", \"flower_photos\")\n",
    "\n",
    "def get_classes_per_dir(parent_dir):\n",
    "    return sorted([dirname for dirname in os.listdir(parent_dir)\n",
    "                  if os.path.isdir(os.path.join(parent_dir, dirname))])\n",
    "\n",
    "def get_image_label_list(parent_dir, classes):\n",
    "    if type(classes) is not list:\n",
    "        print('Not a valid list of labels. Cannot get list.')\n",
    "        return\n",
    "    if len(classes) < 2:\n",
    "        print('Less than two classes. Cannot get list.')\n",
    "        return\n",
    "\n",
    "    image_list = {}\n",
    "    for cls in classes:\n",
    "        image_list[cls] = list()\n",
    "        image_dir = os.path.join(parent_dir, cls)\n",
    "        for filepath in os.listdir(image_dir):\n",
    "            if filepath.endswith(\".jpg\"):\n",
    "                image_list[cls].append(mpimg.imread(os.path.join(image_dir, filepath)))\n",
    "                \n",
    "    return image_list\n",
    "\n",
    "def train_test_images_per_dir(parent_dir, test_ratio=0.2):\n",
    "    classes = get_classes_per_dir(parent_dir)\n",
    "    image_list = get_image_label_list(parent_dir, classes)\n",
    "    X_test = list()\n",
    "    X_train = list()\n",
    "    y_test = list()\n",
    "    y_train = list()\n",
    "    \n",
    "    for cls in classes:\n",
    "        images = image_list[cls].copy()\n",
    "        shuffle(images)\n",
    "        ratio = int(test_ratio*len(images))\n",
    "        X_test.extend(images[:ratio])\n",
    "        X_train.extend(images[ratio:])\n",
    "        y_test.extend(ratio * [cls])\n",
    "        y_train.extend((len(images) - ratio) * [cls])\n",
    "        \n",
    "    train = list(zip(X_train, y_train))\n",
    "    test = list(zip(X_test, y_test))\n",
    "    \n",
    "    shuffle(train)\n",
    "    shuffle(test)\n",
    "\n",
    "    X_train, y_train = zip(*train)\n",
    "    X_test, y_test = zip(*test)\n",
    "        \n",
    "    return np.array(X_train), np.array(X_test), np.array(y_train), np.array(y_test)\n",
    "\n",
    "def resize_images(images, shape=(width,height,channels)):\n",
    "    return np.array([scipy.misc.imresize(image/255, shape) for image in images])\n",
    "\n",
    "def labels_to_onehot(y_train, y_test):\n",
    "    label_binarizer = LabelBinarizer()\n",
    "    label_binarizer.fit(np.unique(y_train))\n",
    "    y_train = label_binarizer.transform(y_train)\n",
    "    y_test = label_binarizer.transform(y_test)\n",
    "    \n",
    "    return y_train, y_test\n",
    "\n",
    "def labels_to_int(y_train, y_test):\n",
    "    label_encoder = LabelEncoder()\n",
    "    label_encoder.fit(np.unique(y_train))\n",
    "    y_train = label_encoder.transform(y_train)\n",
    "    y_test = label_encoder.transform(y_test)\n",
    "    \n",
    "    return y_train, y_test\n",
    "\n",
    "def scale_pixels(imageset):\n",
    "    return np.asarray([2*(image/255-0.5) for image in imageset], dtype='float32')\n"
   ]
  },
  {
   "cell_type": "code",
   "execution_count": 128,
   "metadata": {},
   "outputs": [
    {
     "name": "stderr",
     "output_type": "stream",
     "text": [
      "C:\\Users\\barro\\Anaconda3\\lib\\site-packages\\ipykernel_launcher.py:54: DeprecationWarning: `imresize` is deprecated!\n",
      "`imresize` is deprecated in SciPy 1.0.0, and will be removed in 1.2.0.\n",
      "Use ``skimage.transform.resize`` instead.\n"
     ]
    }
   ],
   "source": [
    "X_train, X_test, y_train, y_test = train_test_images_per_dir(parent_dir=PHOTOS_PATH)\n",
    "X_train = scale_pixels(resize_images(X_train))\n",
    "X_test = scale_pixels(resize_images(X_test))"
   ]
  },
  {
   "cell_type": "markdown",
   "metadata": {},
   "source": [
    "Let's plot one of those images to see what we get:"
   ]
  },
  {
   "cell_type": "code",
   "execution_count": 136,
   "metadata": {},
   "outputs": [
    {
     "name": "stderr",
     "output_type": "stream",
     "text": [
      "Clipping input data to the valid range for imshow with RGB data ([0..1] for floats or [0..255] for integers).\n"
     ]
    },
    {
     "data": {
      "image/png": "[encoded data removed]",
      "text/plain": [
       "<Figure size 432x288 with 1 Axes>"
      ]
     },
     "metadata": {
      "needs_background": "light"
     },
     "output_type": "display_data"
    }
   ],
   "source": [
    "ind = 40\n",
    "plt.title(f\"{X_train[ind].shape[1]}x{X_train[ind].shape[0]}, {y_train[ind]}\")\n",
    "plt.imshow(X_train[ind])\n",
    "plt.axis(\"off\")\n",
    "plt.show()"
   ]
  },
  {
   "cell_type": "markdown",
   "metadata": {},
   "source": [
    "Good, so now let's transform our labels. The network has to deal with numbers, which could be either integers, or one-hot encoding vectors:"
   ]
  },
  {
   "cell_type": "code",
   "execution_count": 137,
   "metadata": {},
   "outputs": [],
   "source": [
    "#y_train, y_test = labels_to_int(y_train, y_test)\n",
    "y_train, y_test = labels_to_onehot(y_train, y_test) # just in case we need it, but we need to use 'categorical_crossentropy' as loss"
   ]
  },
  {
   "cell_type": "markdown",
   "metadata": {},
   "source": [
    "Our dataset is not super big. And because we will train this network over various epochs, ideally we want our model to be trained over a huge variety of photos. Using data augmentation addresses this problem. We will use `ImageDataGenerator()` for it. Now, here we can face some pesky `MemoryError` issues. Here's an elegant solution that I need to have a look into:\n",
    "\n",
    "https://stackoverflow.com/questions/49458905/memory-error-when-using-keras-imagedatagenerator\n",
    "\n",
    "https://github.com/tflearn/tflearn/blob/master/examples/basics/use_dask.py\n",
    "\n",
    "Let's see if we can live without those alternatives:"
   ]
  },
  {
   "cell_type": "code",
   "execution_count": 225,
   "metadata": {},
   "outputs": [],
   "source": [
    "datagen = ImageDataGenerator(\n",
    "        featurewise_center=False,  # set input mean to 0 over the dataset\n",
    "        samplewise_center=False,  # set each sample mean to 0\n",
    "        featurewise_std_normalization=False,  # divide inputs by std of the dataset\n",
    "        samplewise_std_normalization=False,  # divide each input by its std\n",
    "        zca_whitening=False,  # apply ZCA whitening\n",
    "        rotation_range=10,  # randomly rotate images in the range (degrees, 0 to 180)\n",
    "        zoom_range = 0.1, # Randomly zoom image \n",
    "        width_shift_range=0.1,  # randomly shift images horizontally (fraction of total width)\n",
    "        height_shift_range=0.1,  # randomly shift images vertically (fraction of total height)\n",
    "        horizontal_flip=True,  # randomly flip images\n",
    "        vertical_flip=False)  # randomly flip images\n",
    "\n",
    "datagen.fit(X_train)"
   ]
  },
  {
   "cell_type": "markdown",
   "metadata": {},
   "source": [
    "Let's start by fetching the inception v3 graph again. This time, let's use a `training` placeholder that we will use to tell TensorFlow whether we are training the network or not (this is needed by operations such as dropout and batch normalization)."
   ]
  },
  {
   "cell_type": "code",
   "execution_count": 190,
   "metadata": {},
   "outputs": [],
   "source": [
    "from keras.applications.inception_v3 import InceptionV3\n",
    "\n",
    "base_model = InceptionV3(weights='imagenet', include_top=False, input_shape=(299,299,3), pooling=\"avg\")"
   ]
  },
  {
   "cell_type": "markdown",
   "metadata": {},
   "source": [
    "We will now get the last layer, and from there create a bottleneck model, where we will create a bottle cap using a Dense layer:"
   ]
  },
  {
   "cell_type": "code",
   "execution_count": 193,
   "metadata": {},
   "outputs": [
    {
     "data": {
      "text/plain": [
       "<keras.layers.pooling.GlobalAveragePooling2D at 0x1f48105ec88>"
      ]
     },
     "execution_count": 193,
     "metadata": {},
     "output_type": "execute_result"
    }
   ],
   "source": [
    "base_model.get_layer(index=-1)"
   ]
  },
  {
   "cell_type": "code",
   "execution_count": 194,
   "metadata": {},
   "outputs": [],
   "source": [
    "bottleneck_input  = base_model.get_layer(index=0).input\n",
    "bottleneck_output = base_model.get_layer(index=-1).output\n",
    "bottleneck_model  = Model(inputs=bottleneck_input, outputs=bottleneck_output)"
   ]
  },
  {
   "cell_type": "markdown",
   "metadata": {},
   "source": [
    "Now here we have two options: freeze everything from this model, and not optimize the parameters of it, or to freeze only the deeper layers. Let's see what our model looks like:"
   ]
  },
  {
   "cell_type": "code",
   "execution_count": 195,
   "metadata": {},
   "outputs": [
    {
     "name": "stdout",
     "output_type": "stream",
     "text": [
      "Number of layers:312\n"
     ]
    },
    {
     "data": {
      "text/plain": [
       "[<keras.engine.input_layer.InputLayer at 0x1f6138eee80>,\n",
       " <keras.layers.convolutional.Conv2D at 0x1f6138ee6a0>,\n",
       " <keras.layers.normalization.BatchNormalization at 0x1f6138ee9b0>,\n",
       " <keras.layers.core.Activation at 0x1f6138e7630>,\n",
       " <keras.layers.convolutional.Conv2D at 0x1f6138e7470>,\n",
       " <keras.layers.normalization.BatchNormalization at 0x1f61409e240>,\n",
       " <keras.layers.core.Activation at 0x1f613ff9c88>,\n",
       " <keras.layers.convolutional.Conv2D at 0x1f61379ea90>,\n",
       " <keras.layers.normalization.BatchNormalization at 0x1f61404cd68>,\n",
       " <keras.layers.core.Activation at 0x1f61388db38>,\n",
       " <keras.layers.pooling.MaxPooling2D at 0x1f613e30e80>,\n",
       " <keras.layers.convolutional.Conv2D at 0x1f613df8668>,\n",
       " <keras.layers.normalization.BatchNormalization at 0x1f613ee7710>,\n",
       " <keras.layers.core.Activation at 0x1f613f0f5c0>,\n",
       " <keras.layers.convolutional.Conv2D at 0x1f613ee7b70>,\n",
       " <keras.layers.normalization.BatchNormalization at 0x1f613f2e748>,\n",
       " <keras.layers.core.Activation at 0x1f613f90c18>,\n",
       " <keras.layers.pooling.MaxPooling2D at 0x1f61411a940>,\n",
       " <keras.layers.convolutional.Conv2D at 0x1f619cb29e8>,\n",
       " <keras.layers.normalization.BatchNormalization at 0x1f619cfe710>,\n",
       " <keras.layers.core.Activation at 0x1f619d5fbe0>,\n",
       " <keras.layers.convolutional.Conv2D at 0x1f6196dee80>,\n",
       " <keras.layers.convolutional.Conv2D at 0x1f619dd97f0>,\n",
       " <keras.layers.normalization.BatchNormalization at 0x1f6196c5e80>,\n",
       " <keras.layers.normalization.BatchNormalization at 0x1f619df9978>,\n",
       " <keras.layers.core.Activation at 0x1f61976cc50>,\n",
       " <keras.layers.core.Activation at 0x1f619e4c710>,\n",
       " <keras.layers.pooling.AveragePooling2D at 0x1f5c7744358>,\n",
       " <keras.layers.convolutional.Conv2D at 0x1f6140e4da0>,\n",
       " <keras.layers.convolutional.Conv2D at 0x1f6197badd8>,\n",
       " <keras.layers.convolutional.Conv2D at 0x1f60c3089e8>,\n",
       " <keras.layers.convolutional.Conv2D at 0x1f5c773d1d0>,\n",
       " <keras.layers.normalization.BatchNormalization at 0x1f6196a30f0>,\n",
       " <keras.layers.normalization.BatchNormalization at 0x1f6197dc8d0>,\n",
       " <keras.layers.normalization.BatchNormalization at 0x1f5c7774da0>,\n",
       " <keras.layers.normalization.BatchNormalization at 0x1f6138d6f98>,\n",
       " <keras.layers.core.Activation at 0x1f6196a3ef0>,\n",
       " <keras.layers.core.Activation at 0x1f619805438>,\n",
       " <keras.layers.core.Activation at 0x1f5c7771c88>,\n",
       " <keras.layers.core.Activation at 0x1f6140a0940>,\n",
       " <keras.layers.merge.Concatenate at 0x1f6211ebb70>,\n",
       " <keras.layers.convolutional.Conv2D at 0x1f5c76f9ef0>,\n",
       " <keras.layers.normalization.BatchNormalization at 0x1f5c76d43c8>,\n",
       " <keras.layers.core.Activation at 0x1f60c5269e8>,\n",
       " <keras.layers.convolutional.Conv2D at 0x1f60d840a20>,\n",
       " <keras.layers.convolutional.Conv2D at 0x1f5cef80470>,\n",
       " <keras.layers.normalization.BatchNormalization at 0x1f62151df60>,\n",
       " <keras.layers.normalization.BatchNormalization at 0x1f5c7697c18>,\n",
       " <keras.layers.core.Activation at 0x1f5c77729b0>,\n",
       " <keras.layers.core.Activation at 0x1f619e62b00>,\n",
       " <keras.layers.pooling.AveragePooling2D at 0x1f47c148b00>,\n",
       " <keras.layers.convolutional.Conv2D at 0x1f61408ef28>,\n",
       " <keras.layers.convolutional.Conv2D at 0x1f6132af940>,\n",
       " <keras.layers.convolutional.Conv2D at 0x1f47c04f828>,\n",
       " <keras.layers.convolutional.Conv2D at 0x1f47c148fd0>,\n",
       " <keras.layers.normalization.BatchNormalization at 0x1f614006240>,\n",
       " <keras.layers.normalization.BatchNormalization at 0x1f5c7776dd8>,\n",
       " <keras.layers.normalization.BatchNormalization at 0x1f47c0709b0>,\n",
       " <keras.layers.normalization.BatchNormalization at 0x1f47c1b50b8>,\n",
       " <keras.layers.core.Activation at 0x1f6212f6cf8>,\n",
       " <keras.layers.core.Activation at 0x1f5c7784048>,\n",
       " <keras.layers.core.Activation at 0x1f47c116cf8>,\n",
       " <keras.layers.core.Activation at 0x1f47c1f7978>,\n",
       " <keras.layers.merge.Concatenate at 0x1f47c26de10>,\n",
       " <keras.layers.convolutional.Conv2D at 0x1f47c59dfd0>,\n",
       " <keras.layers.normalization.BatchNormalization at 0x1f47c581e80>,\n",
       " <keras.layers.core.Activation at 0x1f47c62bcc0>,\n",
       " <keras.layers.convolutional.Conv2D at 0x1f47c35b828>,\n",
       " <keras.layers.convolutional.Conv2D at 0x1f47c6536a0>,\n",
       " <keras.layers.normalization.BatchNormalization at 0x1f47c3829b0>,\n",
       " <keras.layers.normalization.BatchNormalization at 0x1f47c69e438>,\n",
       " <keras.layers.core.Activation at 0x1f47c3cd748>,\n",
       " <keras.layers.core.Activation at 0x1f47c6f60f0>,\n",
       " <keras.layers.pooling.AveragePooling2D at 0x1f47c8495c0>,\n",
       " <keras.layers.convolutional.Conv2D at 0x1f47c2384a8>,\n",
       " <keras.layers.convolutional.Conv2D at 0x1f47c45db00>,\n",
       " <keras.layers.convolutional.Conv2D at 0x1f47c758b38>,\n",
       " <keras.layers.convolutional.Conv2D at 0x1f47c880a90>,\n",
       " <keras.layers.normalization.BatchNormalization at 0x1f47c311e10>,\n",
       " <keras.layers.normalization.BatchNormalization at 0x1f47c482cc0>,\n",
       " <keras.layers.normalization.BatchNormalization at 0x1f47c7a4860>,\n",
       " <keras.layers.normalization.BatchNormalization at 0x1f47c8ec390>,\n",
       " <keras.layers.core.Activation at 0x1f47c2db048>,\n",
       " <keras.layers.core.Activation at 0x1f47c4cbb38>,\n",
       " <keras.layers.core.Activation at 0x1f47c7f2518>,\n",
       " <keras.layers.core.Activation at 0x1f47c8eca90>,\n",
       " <keras.layers.merge.Concatenate at 0x1f47c97f7b8>,\n",
       " <keras.layers.convolutional.Conv2D at 0x1f47caa06d8>,\n",
       " <keras.layers.normalization.BatchNormalization at 0x1f47cac7860>,\n",
       " <keras.layers.core.Activation at 0x1f47cb11518>,\n",
       " <keras.layers.convolutional.Conv2D at 0x1f47cba39e8>,\n",
       " <keras.layers.normalization.BatchNormalization at 0x1f47cbc7b70>,\n",
       " <keras.layers.core.Activation at 0x1f47cc106d8>,\n",
       " <keras.layers.convolutional.Conv2D at 0x1f47c97fe48>,\n",
       " <keras.layers.convolutional.Conv2D at 0x1f47cca60f0>,\n",
       " <keras.layers.normalization.BatchNormalization at 0x1f47c9e93c8>,\n",
       " <keras.layers.normalization.BatchNormalization at 0x1f47ccc9a90>,\n",
       " <keras.layers.core.Activation at 0x1f47c9e9f98>,\n",
       " <keras.layers.core.Activation at 0x1f47cd0cbe0>,\n",
       " <keras.layers.pooling.MaxPooling2D at 0x1f47cdd0e80>,\n",
       " <keras.layers.merge.Concatenate at 0x1f47cd9b518>,\n",
       " <keras.layers.convolutional.Conv2D at 0x1f47d1c09e8>,\n",
       " <keras.layers.normalization.BatchNormalization at 0x1f47d20c710>,\n",
       " <keras.layers.core.Activation at 0x1f47d2584a8>,\n",
       " <keras.layers.convolutional.Conv2D at 0x1f47d2eb898>,\n",
       " <keras.layers.normalization.BatchNormalization at 0x1f47d30ea20>,\n",
       " <keras.layers.core.Activation at 0x1f47d3b5e80>,\n",
       " <keras.layers.convolutional.Conv2D at 0x1f47ce9bd30>,\n",
       " <keras.layers.convolutional.Conv2D at 0x1f47d3ebb70>,\n",
       " <keras.layers.normalization.BatchNormalization at 0x1f47ceeab70>,\n",
       " <keras.layers.normalization.BatchNormalization at 0x1f47d411e48>,\n",
       " <keras.layers.core.Activation at 0x1f47cf93898>,\n",
       " <keras.layers.core.Activation at 0x1f47d45d080>,\n",
       " <keras.layers.convolutional.Conv2D at 0x1f47cfcbb38>,\n",
       " <keras.layers.convolutional.Conv2D at 0x1f47d511c50>,\n",
       " <keras.layers.normalization.BatchNormalization at 0x1f47cfeca58>,\n",
       " <keras.layers.normalization.BatchNormalization at 0x1f47d52c6d8>,\n",
       " <keras.layers.core.Activation at 0x1f47d0310b8>,\n",
       " <keras.layers.core.Activation at 0x1f47d5533c8>,\n",
       " <keras.layers.pooling.AveragePooling2D at 0x1f47d70f978>,\n",
       " <keras.layers.convolutional.Conv2D at 0x1f47cd9b630>,\n",
       " <keras.layers.convolutional.Conv2D at 0x1f47d0f0c88>,\n",
       " <keras.layers.convolutional.Conv2D at 0x1f47d5e49b0>,\n",
       " <keras.layers.convolutional.Conv2D at 0x1f47d6dcdd8>,\n",
       " <keras.layers.normalization.BatchNormalization at 0x1f47ce39048>,\n",
       " <keras.layers.normalization.BatchNormalization at 0x1f47d10a710>,\n",
       " <keras.layers.normalization.BatchNormalization at 0x1f47d6306d8>,\n",
       " <keras.layers.normalization.BatchNormalization at 0x1f47d77a828>,\n",
       " <keras.layers.core.Activation at 0x1f47ce39208>,\n",
       " <keras.layers.core.Activation at 0x1f47d12f400>,\n",
       " <keras.layers.core.Activation at 0x1f47d67a470>,\n",
       " <keras.layers.core.Activation at 0x1f47d7d9828>,\n",
       " <keras.layers.merge.Concatenate at 0x1f47d84dfd0>,\n",
       " <keras.layers.convolutional.Conv2D at 0x1f47dc2e390>,\n",
       " <keras.layers.normalization.BatchNormalization at 0x1f47dc782b0>,\n",
       " <keras.layers.core.Activation at 0x1f47dd08e48>,\n",
       " <keras.layers.convolutional.Conv2D at 0x1f47dd2e7f0>,\n",
       " <keras.layers.normalization.BatchNormalization at 0x1f47dd7d588>,\n",
       " <keras.layers.core.Activation at 0x1f47ddc92b0>,\n",
       " <keras.layers.convolutional.Conv2D at 0x1f47d932550>,\n",
       " <keras.layers.convolutional.Conv2D at 0x1f47de58828>,\n",
       " <keras.layers.normalization.BatchNormalization at 0x1f47d9586d8>,\n",
       " <keras.layers.normalization.BatchNormalization at 0x1f47de7c9b0>,\n",
       " <keras.layers.core.Activation at 0x1f47d9a1400>,\n",
       " <keras.layers.core.Activation at 0x1f47df2acf8>,\n",
       " <keras.layers.convolutional.Conv2D at 0x1f47da34860>,\n",
       " <keras.layers.convolutional.Conv2D at 0x1f47df59b00>,\n",
       " <keras.layers.normalization.BatchNormalization at 0x1f47da579e8>,\n",
       " <keras.layers.normalization.BatchNormalization at 0x1f47df81dd8>,\n",
       " <keras.layers.core.Activation at 0x1f47db02e48>,\n",
       " <keras.layers.core.Activation at 0x1f47dfc8b70>,\n",
       " <keras.layers.pooling.AveragePooling2D at 0x1f47e157940>,\n",
       " <keras.layers.convolutional.Conv2D at 0x1f47d811588>,\n",
       " <keras.layers.convolutional.Conv2D at 0x1f47db37b38>,\n",
       " <keras.layers.convolutional.Conv2D at 0x1f47e09eda0>,\n",
       " <keras.layers.convolutional.Conv2D at 0x1f47e157898>,\n",
       " <keras.layers.normalization.BatchNormalization at 0x1f47d879240>,\n",
       " <keras.layers.normalization.BatchNormalization at 0x1f47db5de10>,\n",
       " <keras.layers.normalization.BatchNormalization at 0x1f47e085f60>,\n",
       " <keras.layers.normalization.BatchNormalization at 0x1f47e1f0390>,\n",
       " <keras.layers.core.Activation at 0x1f47d879c88>,\n",
       " <keras.layers.core.Activation at 0x1f47dba6a58>,\n",
       " <keras.layers.core.Activation at 0x1f47e0c4f28>,\n",
       " <keras.layers.core.Activation at 0x1f47e209ba8>,\n",
       " <keras.layers.merge.Concatenate at 0x1f47e24eba8>,\n",
       " <keras.layers.convolutional.Conv2D at 0x1f47e6a6b00>,\n",
       " <keras.layers.normalization.BatchNormalization at 0x1f47e6cfdd8>,\n",
       " <keras.layers.core.Activation at 0x1f47e778898>,\n",
       " <keras.layers.convolutional.Conv2D at 0x1f47e7ecf28>,\n",
       " <keras.layers.normalization.BatchNormalization at 0x1f47e7d1e80>,\n",
       " <keras.layers.core.Activation at 0x1f47e817d30>,\n",
       " <keras.layers.convolutional.Conv2D at 0x1f47e381358>,\n",
       " <keras.layers.convolutional.Conv2D at 0x1f47e8a5828>,\n",
       " <keras.layers.normalization.BatchNormalization at 0x1f47e3bf2b0>,\n",
       " <keras.layers.normalization.BatchNormalization at 0x1f47e8ec550>,\n",
       " <keras.layers.core.Activation at 0x1f47e454e10>,\n",
       " <keras.layers.core.Activation at 0x1f47e9392e8>,\n",
       " <keras.layers.convolutional.Conv2D at 0x1f47e47c7f0>,\n",
       " <keras.layers.convolutional.Conv2D at 0x1f47e9ce7f0>,\n",
       " <keras.layers.normalization.BatchNormalization at 0x1f47e4c9588>,\n",
       " <keras.layers.normalization.BatchNormalization at 0x1f47e9ef978>,\n",
       " <keras.layers.core.Activation at 0x1f47e513320>,\n",
       " <keras.layers.core.Activation at 0x1f47ea9c6a0>,\n",
       " <keras.layers.pooling.AveragePooling2D at 0x1f47ec11d30>,\n",
       " <keras.layers.convolutional.Conv2D at 0x1f47e27fa20>,\n",
       " <keras.layers.convolutional.Conv2D at 0x1f47e5a5828>,\n",
       " <keras.layers.convolutional.Conv2D at 0x1f47ead0ac8>,\n",
       " <keras.layers.convolutional.Conv2D at 0x1f47ebd2e48>,\n",
       " <keras.layers.normalization.BatchNormalization at 0x1f47e34de80>,\n",
       " <keras.layers.normalization.BatchNormalization at 0x1f47e5c89b0>,\n",
       " <keras.layers.normalization.BatchNormalization at 0x1f47eaf7da0>,\n",
       " <keras.layers.normalization.BatchNormalization at 0x1f47ec39320>,\n",
       " <keras.layers.core.Activation at 0x1f47e332550>,\n",
       " <keras.layers.core.Activation at 0x1f47e672cf8>,\n",
       " <keras.layers.core.Activation at 0x1f47eb3f3c8>,\n",
       " <keras.layers.core.Activation at 0x1f47ec7cc50>,\n",
       " <keras.layers.merge.Concatenate at 0x1f47ecf2630>,\n",
       " <keras.layers.convolutional.Conv2D at 0x1f47f1157f0>,\n",
       " <keras.layers.normalization.BatchNormalization at 0x1f47f139978>,\n",
       " <keras.layers.core.Activation at 0x1f47f187048>,\n",
       " <keras.layers.convolutional.Conv2D at 0x1f47f21ab00>,\n",
       " <keras.layers.normalization.BatchNormalization at 0x1f47f240c88>,\n",
       " <keras.layers.core.Activation at 0x1f47f285b00>,\n",
       " <keras.layers.convolutional.Conv2D at 0x1f47edf5b00>,\n",
       " <keras.layers.convolutional.Conv2D at 0x1f47f35cf28>,\n",
       " <keras.layers.normalization.BatchNormalization at 0x1f47ee1add8>,\n",
       " <keras.layers.normalization.BatchNormalization at 0x1f47f346e48>,\n",
       " <keras.layers.core.Activation at 0x1f47eec2978>,\n",
       " <keras.layers.core.Activation at 0x1f47f38a208>,\n",
       " <keras.layers.convolutional.Conv2D at 0x1f47ef36c88>,\n",
       " <keras.layers.convolutional.Conv2D at 0x1f47f4187f0>,\n",
       " <keras.layers.normalization.BatchNormalization at 0x1f47ef1de80>,\n",
       " <keras.layers.normalization.BatchNormalization at 0x1f47f464518>,\n",
       " <keras.layers.core.Activation at 0x1f47ef62d30>,\n",
       " <keras.layers.core.Activation at 0x1f47f4c7f98>,\n",
       " <keras.layers.pooling.AveragePooling2D at 0x1f47f642a90>,\n",
       " <keras.layers.convolutional.Conv2D at 0x1f47ecc7cc0>,\n",
       " <keras.layers.convolutional.Conv2D at 0x1f47efed828>,\n",
       " <keras.layers.convolutional.Conv2D at 0x1f47f5417b8>,\n",
       " <keras.layers.convolutional.Conv2D at 0x1f47f642e48>,\n",
       " <keras.layers.normalization.BatchNormalization at 0x1f47ed60278>,\n",
       " <keras.layers.normalization.BatchNormalization at 0x1f47f038550>,\n",
       " <keras.layers.normalization.BatchNormalization at 0x1f47f563940>,\n",
       " <keras.layers.normalization.BatchNormalization at 0x1f47f6b23c8>,\n",
       " <keras.layers.core.Activation at 0x1f47edc0518>,\n",
       " <keras.layers.core.Activation at 0x1f47f085160>,\n",
       " <keras.layers.core.Activation at 0x1f47f612978>,\n",
       " <keras.layers.core.Activation at 0x1f47f6b2b70>,\n",
       " <keras.layers.merge.Concatenate at 0x1f47f76ccf8>,\n",
       " <keras.layers.convolutional.Conv2D at 0x1f47f966a90>,\n",
       " <keras.layers.normalization.BatchNormalization at 0x1f47f98bd68>,\n",
       " <keras.layers.core.Activation at 0x1f47fa38b00>,\n",
       " <keras.layers.convolutional.Conv2D at 0x1f47faabf28>,\n",
       " <keras.layers.normalization.BatchNormalization at 0x1f47fa91e10>,\n",
       " <keras.layers.core.Activation at 0x1f47fad6cc0>,\n",
       " <keras.layers.convolutional.Conv2D at 0x1f47f745860>,\n",
       " <keras.layers.convolutional.Conv2D at 0x1f47fb647b8>,\n",
       " <keras.layers.normalization.BatchNormalization at 0x1f47f816e10>,\n",
       " <keras.layers.normalization.BatchNormalization at 0x1f47fbac4e0>,\n",
       " <keras.layers.core.Activation at 0x1f47f7ab4a8>,\n",
       " <keras.layers.core.Activation at 0x1f47fc13f28>,\n",
       " <keras.layers.convolutional.Conv2D at 0x1f47f8627b8>,\n",
       " <keras.layers.convolutional.Conv2D at 0x1f47fc8e780>,\n",
       " <keras.layers.normalization.BatchNormalization at 0x1f47f887940>,\n",
       " <keras.layers.normalization.BatchNormalization at 0x1f47fcb0908>,\n",
       " <keras.layers.core.Activation at 0x1f47f9347f0>,\n",
       " <keras.layers.core.Activation at 0x1f47fd5e7b8>,\n",
       " <keras.layers.pooling.MaxPooling2D at 0x1f47fd91a58>,\n",
       " <keras.layers.merge.Concatenate at 0x1f47fd91fd0>,\n",
       " <keras.layers.convolutional.Conv2D at 0x1f4801b8d30>,\n",
       " <keras.layers.normalization.BatchNormalization at 0x1f480286ac8>,\n",
       " <keras.layers.core.Activation at 0x1f480222048>,\n",
       " <keras.layers.convolutional.Conv2D at 0x1f47feb8358>,\n",
       " <keras.layers.convolutional.Conv2D at 0x1f4802ae6d8>,\n",
       " <keras.layers.normalization.BatchNormalization at 0x1f47fed14e0>,\n",
       " <keras.layers.normalization.BatchNormalization at 0x1f4802fc438>,\n",
       " <keras.layers.core.Activation at 0x1f47ff27278>,\n",
       " <keras.layers.core.Activation at 0x1f4803510f0>,\n",
       " <keras.layers.convolutional.Conv2D at 0x1f47ff87780>,\n",
       " <keras.layers.convolutional.Conv2D at 0x1f4800b9a58>,\n",
       " <keras.layers.convolutional.Conv2D at 0x1f4803b6b38>,\n",
       " <keras.layers.convolutional.Conv2D at 0x1f4804ada58>,\n",
       " <keras.layers.pooling.AveragePooling2D at 0x1f4805e4da0>,\n",
       " <keras.layers.convolutional.Conv2D at 0x1f47fdb3d30>,\n",
       " <keras.layers.normalization.BatchNormalization at 0x1f47ffd77f0>,\n",
       " <keras.layers.normalization.BatchNormalization at 0x1f4800d9c18>,\n",
       " <keras.layers.normalization.BatchNormalization at 0x1f480403860>,\n",
       " <keras.layers.normalization.BatchNormalization at 0x1f480504c88>,\n",
       " <keras.layers.convolutional.Conv2D at 0x1f48060bfd0>,\n",
       " <keras.layers.normalization.BatchNormalization at 0x1f47fe5af98>,\n",
       " <keras.layers.core.Activation at 0x1f47fffce80>,\n",
       " <keras.layers.core.Activation at 0x1f480182e80>,\n",
       " <keras.layers.core.Activation at 0x1f480420ef0>,\n",
       " <keras.layers.core.Activation at 0x1f4805aeef0>,\n",
       " <keras.layers.normalization.BatchNormalization at 0x1f4806b2c88>,\n",
       " <keras.layers.core.Activation at 0x1f47fe5afd0>,\n",
       " <keras.layers.merge.Concatenate at 0x1f4801b8be0>,\n",
       " <keras.layers.merge.Concatenate at 0x1f4805e4c50>,\n",
       " <keras.layers.core.Activation at 0x1f4806b2b38>,\n",
       " <keras.layers.merge.Concatenate at 0x1f48070b588>,\n",
       " <keras.layers.convolutional.Conv2D at 0x1f480b04e10>,\n",
       " <keras.layers.normalization.BatchNormalization at 0x1f480ba0358>,\n",
       " <keras.layers.core.Activation at 0x1f480ba04e0>,\n",
       " <keras.layers.convolutional.Conv2D at 0x1f4807d4cc0>,\n",
       " <keras.layers.convolutional.Conv2D at 0x1f480c32b38>,\n",
       " <keras.layers.normalization.BatchNormalization at 0x1f48082dd68>,\n",
       " <keras.layers.normalization.BatchNormalization at 0x1f480c56cc0>,\n",
       " <keras.layers.core.Activation at 0x1f4808d87f0>,\n",
       " <keras.layers.core.Activation at 0x1f480c9ea58>,\n",
       " <keras.layers.convolutional.Conv2D at 0x1f48094cf28>,\n",
       " <keras.layers.convolutional.Conv2D at 0x1f480a017b8>,\n",
       " <keras.layers.convolutional.Conv2D at 0x1f480d75c88>,\n",
       " <keras.layers.convolutional.Conv2D at 0x1f480e2e828>,\n",
       " <keras.layers.pooling.AveragePooling2D at 0x1f480f30f98>,\n",
       " <keras.layers.convolutional.Conv2D at 0x1f4806da668>,\n",
       " <keras.layers.normalization.BatchNormalization at 0x1f480931e10>,\n",
       " <keras.layers.normalization.BatchNormalization at 0x1f480a4e4e0>,\n",
       " <keras.layers.normalization.BatchNormalization at 0x1f480d5be80>,\n",
       " <keras.layers.normalization.BatchNormalization at 0x1f480e78550>,\n",
       " <keras.layers.convolutional.Conv2D at 0x1f480f80898>,\n",
       " <keras.layers.normalization.BatchNormalization at 0x1f480775208>,\n",
       " <keras.layers.core.Activation at 0x1f480976cc0>,\n",
       " <keras.layers.core.Activation at 0x1f480ab3f28>,\n",
       " <keras.layers.core.Activation at 0x1f480da0d30>,\n",
       " <keras.layers.core.Activation at 0x1f480ec5160>,\n",
       " <keras.layers.normalization.BatchNormalization at 0x1f48102cef0>,\n",
       " <keras.layers.core.Activation at 0x1f480775438>,\n",
       " <keras.layers.merge.Concatenate at 0x1f480b04748>,\n",
       " <keras.layers.merge.Concatenate at 0x1f480f307f0>,\n",
       " <keras.layers.core.Activation at 0x1f48102cdd8>,\n",
       " <keras.layers.merge.Concatenate at 0x1f48105e358>,\n",
       " <keras.layers.pooling.GlobalAveragePooling2D at 0x1f48105ec88>]"
      ]
     },
     "execution_count": 195,
     "metadata": {},
     "output_type": "execute_result"
    }
   ],
   "source": [
    "print(f\"Number of layers:{len(bottleneck_model.layers)}\")\n",
    "bottleneck_model.layers"
   ]
  },
  {
   "cell_type": "markdown",
   "metadata": {},
   "source": [
    "Let's make a test here: we will freeze everything until the last `Conv2D` layer. From there, we will train everything:"
   ]
  },
  {
   "cell_type": "code",
   "execution_count": 202,
   "metadata": {},
   "outputs": [
    {
     "data": {
      "text/plain": [
       "<keras.layers.convolutional.Conv2D at 0x1f48094cf28>"
      ]
     },
     "execution_count": 202,
     "metadata": {},
     "output_type": "execute_result"
    }
   ],
   "source": [
    "bottleneck_model.layers[-23]"
   ]
  },
  {
   "cell_type": "code",
   "execution_count": 201,
   "metadata": {},
   "outputs": [],
   "source": [
    "# freeze all layers\n",
    "for layer in bottleneck_model.layers[:-23]:\n",
    "    layer.trainable = False"
   ]
  },
  {
   "cell_type": "code",
   "execution_count": 203,
   "metadata": {},
   "outputs": [
    {
     "data": {
      "text/plain": [
       "True"
      ]
     },
     "execution_count": 203,
     "metadata": {},
     "output_type": "execute_result"
    }
   ],
   "source": [
    "bottleneck_model.layers[-23].trainable"
   ]
  },
  {
   "cell_type": "code",
   "execution_count": 204,
   "metadata": {},
   "outputs": [],
   "source": [
    "NUM_CLASSES = len(os.listdir(PHOTOS_PATH))-1  # How many image classes are in our new data?\n",
    "BOTTLENECK_DIM = base_model.get_layer(index=-3).output.shape.dims[1]    \n",
    "    \n",
    "# add your head on top\n",
    "new_model = Sequential()\n",
    "new_model.add(bottleneck_model)\n",
    "new_model.add(Dense(NUM_CLASSES, kernel_initializer='he_normal', activation='softmax'))"
   ]
  },
  {
   "cell_type": "code",
   "execution_count": 205,
   "metadata": {},
   "outputs": [
    {
     "name": "stdout",
     "output_type": "stream",
     "text": [
      "_________________________________________________________________\n",
      "Layer (type)                 Output Shape              Param #   \n",
      "=================================================================\n",
      "model_5 (Model)              (None, 2048)              21802784  \n",
      "_________________________________________________________________\n",
      "dense_10 (Dense)             (None, 5)                 10245     \n",
      "=================================================================\n",
      "Total params: 21,813,029\n",
      "Trainable params: 2,830,341\n",
      "Non-trainable params: 18,982,688\n",
      "_________________________________________________________________\n"
     ]
    }
   ],
   "source": [
    "new_model.summary()"
   ]
  },
  {
   "cell_type": "code",
   "execution_count": 206,
   "metadata": {},
   "outputs": [],
   "source": [
    "# Define the optimizer\n",
    "optimizer = Adam(lr=0.0033)\n",
    "\n",
    "# Compile the model\n",
    "new_model.compile(optimizer=optimizer, loss=\"categorical_crossentropy\", metrics=[\"accuracy\"])"
   ]
  },
  {
   "cell_type": "code",
   "execution_count": 207,
   "metadata": {},
   "outputs": [
    {
     "name": "stdout",
     "output_type": "stream",
     "text": [
      "Epoch 1/1\n",
      "  96/2939 [..............................] - ETA: 2:20 - loss: 1.4732 - acc: 0.3542"
     ]
    },
    {
     "name": "stderr",
     "output_type": "stream",
     "text": [
      "C:\\Users\\barro\\Anaconda3\\lib\\site-packages\\keras\\callbacks.py:122: UserWarning: Method on_batch_end() is slow compared to the batch update (0.691939). Check your callbacks.\n",
      "  % delta_t_median)\n"
     ]
    },
    {
     "name": "stdout",
     "output_type": "stream",
     "text": [
      "2939/2939 [==============================] - 20s 7ms/step - loss: 0.7609 - acc: 0.7996\n"
     ]
    },
    {
     "data": {
      "image/png": "[encoded data removed]",
      "text/plain": [
       "<Figure size 432x288 with 1 Axes>"
      ]
     },
     "metadata": {
      "needs_background": "light"
     },
     "output_type": "display_data"
    }
   ],
   "source": [
    "batch_size = 32\n",
    "\n",
    "lr_finder = LRFinder(min_lr=1e-7, \n",
    "                     max_lr=1e-1, \n",
    "                     steps_per_epoch=np.ceil(len(X_train) / batch_size), \n",
    "                     epochs=3)\n",
    "es = EarlyStopping(monitor='loss')\n",
    "\n",
    "new_model.fit(X_train, y_train, callbacks=[lr_finder, es] )\n",
    "            \n",
    "lr_finder.plot_loss()"
   ]
  },
  {
   "cell_type": "markdown",
   "metadata": {},
   "source": [
    "Our `LRFinder` shows us that a learning rate somewhere between 1e-3 and 1e-2 is optimal. But since we will be using Stochastic Gradient Descent with Restarts, I can choose a range going from 0.01 and 0.0001."
   ]
  },
  {
   "cell_type": "code",
   "execution_count": 208,
   "metadata": {},
   "outputs": [
    {
     "name": "stdout",
     "output_type": "stream",
     "text": [
      "Epoch 1/20\n",
      "45/45 [==============================] - 58s 1s/step - loss: 0.3838 - acc: 0.8889 - val_loss: 1.6962 - val_acc: 0.7688\n",
      "Epoch 2/20\n",
      "45/45 [==============================] - 50s 1s/step - loss: 0.3019 - acc: 0.9130 - val_loss: 1.6174 - val_acc: 0.7702\n",
      "Epoch 3/20\n",
      "45/45 [==============================] - 52s 1s/step - loss: 0.2420 - acc: 0.9217 - val_loss: 1.6727 - val_acc: 0.7592\n",
      "Epoch 4/20\n",
      "45/45 [==============================] - 52s 1s/step - loss: 0.2138 - acc: 0.9242 - val_loss: 1.5417 - val_acc: 0.7620\n",
      "Epoch 5/20\n",
      "45/45 [==============================] - 52s 1s/step - loss: 0.1937 - acc: 0.9360 - val_loss: 1.3941 - val_acc: 0.7729\n",
      "Epoch 6/20\n",
      "45/45 [==============================] - 52s 1s/step - loss: 0.1653 - acc: 0.9471 - val_loss: 1.3579 - val_acc: 0.7729\n",
      "Epoch 7/20\n",
      "45/45 [==============================] - 52s 1s/step - loss: 0.1677 - acc: 0.9437 - val_loss: 1.2987 - val_acc: 0.7825\n",
      "Epoch 8/20\n",
      "45/45 [==============================] - 52s 1s/step - loss: 0.1355 - acc: 0.9537 - val_loss: 1.3068 - val_acc: 0.7893\n",
      "Epoch 9/20\n",
      "45/45 [==============================] - 53s 1s/step - loss: 0.1397 - acc: 0.9516 - val_loss: 1.2857 - val_acc: 0.7798\n",
      "Epoch 10/20\n",
      "45/45 [==============================] - 52s 1s/step - loss: 0.1225 - acc: 0.9555 - val_loss: 1.3457 - val_acc: 0.7702\n",
      "Epoch 11/20\n",
      "45/45 [==============================] - 51s 1s/step - loss: 0.1196 - acc: 0.9638 - val_loss: 1.2601 - val_acc: 0.7852\n",
      "Epoch 12/20\n",
      "45/45 [==============================] - 52s 1s/step - loss: 0.1100 - acc: 0.9617 - val_loss: 1.2684 - val_acc: 0.7880\n",
      "Epoch 13/20\n",
      "45/45 [==============================] - 52s 1s/step - loss: 0.1042 - acc: 0.9645 - val_loss: 1.0903 - val_acc: 0.8057\n",
      "Epoch 14/20\n",
      "45/45 [==============================] - 52s 1s/step - loss: 0.0881 - acc: 0.9676 - val_loss: 1.1640 - val_acc: 0.7893\n",
      "Epoch 15/20\n",
      "45/45 [==============================] - 52s 1s/step - loss: 0.0949 - acc: 0.9711 - val_loss: 1.0437 - val_acc: 0.8085\n",
      "Epoch 16/20\n",
      "45/45 [==============================] - 52s 1s/step - loss: 0.0839 - acc: 0.9725 - val_loss: 1.0638 - val_acc: 0.8140\n",
      "Epoch 17/20\n",
      "45/45 [==============================] - 53s 1s/step - loss: 0.0767 - acc: 0.9764 - val_loss: 0.9976 - val_acc: 0.8071\n",
      "Epoch 18/20\n",
      "45/45 [==============================] - 53s 1s/step - loss: 0.0759 - acc: 0.9722 - val_loss: 1.1238 - val_acc: 0.8044\n",
      "Epoch 19/20\n",
      "45/45 [==============================] - 55s 1s/step - loss: 0.0630 - acc: 0.9799 - val_loss: 1.0922 - val_acc: 0.8140\n",
      "Epoch 20/20\n",
      "45/45 [==============================] - 54s 1s/step - loss: 0.0596 - acc: 0.9840 - val_loss: 1.1635 - val_acc: 0.8003\n"
     ]
    }
   ],
   "source": [
    "batch_size = 64\n",
    "epochs = 20\n",
    "\n",
    "schedule = SGDRScheduler(min_lr=1e-4,\n",
    "                         max_lr=1e-3,\n",
    "                         steps_per_epoch=np.ceil(len(X_train/batch_size)),\n",
    "                         lr_decay=0.9,\n",
    "                         cycle_length=10,\n",
    "                         mult_factor=1.5)\n",
    "\n",
    "history = new_model.fit_generator(datagen.flow(X_train, y_train, batch_size=batch_size),\n",
    "                                  epochs=epochs, validation_data = (X_test, y_test),\n",
    "                                  verbose=1, steps_per_epoch=X_train.shape[0] // batch_size, \n",
    "                                  callbacks=[schedule])"
   ]
  },
  {
   "cell_type": "markdown",
   "metadata": {},
   "source": [
    "Okay, ~80% out of 5 classes is not bad, but the model overfits. However, this is only after 20 epochs. We could continue training, but this time adding some regularization."
   ]
  },
  {
   "cell_type": "code",
   "execution_count": 221,
   "metadata": {},
   "outputs": [
    {
     "name": "stdout",
     "output_type": "stream",
     "text": [
      "Epoch 1/100\n",
      "45/45 [==============================] - 56s 1s/step - loss: 0.1085 - acc: 0.9618 - val_loss: 1.1396 - val_acc: 0.8003\n",
      "Epoch 2/100\n",
      "45/45 [==============================] - 53s 1s/step - loss: 0.1039 - acc: 0.9638 - val_loss: 1.2647 - val_acc: 0.7852\n",
      "Epoch 3/100\n",
      "45/45 [==============================] - 53s 1s/step - loss: 0.0925 - acc: 0.9687 - val_loss: 1.1413 - val_acc: 0.8003\n",
      "Epoch 4/100\n",
      "45/45 [==============================] - 54s 1s/step - loss: 0.0808 - acc: 0.9749 - val_loss: 1.0385 - val_acc: 0.8181\n",
      "Epoch 5/100\n",
      "45/45 [==============================] - 54s 1s/step - loss: 0.0866 - acc: 0.9705 - val_loss: 1.2313 - val_acc: 0.7893\n",
      "Epoch 6/100\n",
      "45/45 [==============================] - 54s 1s/step - loss: 0.0689 - acc: 0.9770 - val_loss: 1.2433 - val_acc: 0.7784\n",
      "Epoch 7/100\n",
      "45/45 [==============================] - 54s 1s/step - loss: 0.0675 - acc: 0.9802 - val_loss: 1.1112 - val_acc: 0.7989\n",
      "Epoch 8/100\n",
      "45/45 [==============================] - 54s 1s/step - loss: 0.0502 - acc: 0.9857 - val_loss: 1.1234 - val_acc: 0.8016\n",
      "Epoch 9/100\n",
      "45/45 [==============================] - 54s 1s/step - loss: 0.0577 - acc: 0.9843 - val_loss: 1.0245 - val_acc: 0.8140\n",
      "Epoch 10/100\n",
      "45/45 [==============================] - 54s 1s/step - loss: 0.0440 - acc: 0.9885 - val_loss: 1.0101 - val_acc: 0.8153\n",
      "Epoch 11/100\n",
      "45/45 [==============================] - 54s 1s/step - loss: 0.0461 - acc: 0.9861 - val_loss: 0.9566 - val_acc: 0.8140\n",
      "Epoch 12/100\n",
      "45/45 [==============================] - 54s 1s/step - loss: 0.0511 - acc: 0.9829 - val_loss: 0.9815 - val_acc: 0.8098\n",
      "Epoch 13/100\n",
      "45/45 [==============================] - 54s 1s/step - loss: 0.0386 - acc: 0.9902 - val_loss: 0.9996 - val_acc: 0.8030\n",
      "Epoch 14/100\n",
      "45/45 [==============================] - 53s 1s/step - loss: 0.0285 - acc: 0.9927 - val_loss: 0.9592 - val_acc: 0.8235\n",
      "Epoch 15/100\n",
      "45/45 [==============================] - 54s 1s/step - loss: 0.0381 - acc: 0.9892 - val_loss: 1.0137 - val_acc: 0.7975\n",
      "Epoch 16/100\n",
      "45/45 [==============================] - 54s 1s/step - loss: 0.0295 - acc: 0.9910 - val_loss: 1.1567 - val_acc: 0.7893\n",
      "Epoch 17/100\n",
      "45/45 [==============================] - 54s 1s/step - loss: 0.0274 - acc: 0.9923 - val_loss: 1.0371 - val_acc: 0.8044\n",
      "Epoch 18/100\n",
      "45/45 [==============================] - 54s 1s/step - loss: 0.0275 - acc: 0.9931 - val_loss: 0.9092 - val_acc: 0.8263\n",
      "Epoch 19/100\n",
      "45/45 [==============================] - 54s 1s/step - loss: 0.0232 - acc: 0.9955 - val_loss: 0.9313 - val_acc: 0.8263\n",
      "Epoch 20/100\n",
      "45/45 [==============================] - 54s 1s/step - loss: 0.0242 - acc: 0.9927 - val_loss: 0.9602 - val_acc: 0.8167\n",
      "Epoch 21/100\n",
      "45/45 [==============================] - 54s 1s/step - loss: 0.0236 - acc: 0.9920 - val_loss: 0.9215 - val_acc: 0.8249\n",
      "Epoch 22/100\n",
      "45/45 [==============================] - 55s 1s/step - loss: 0.0229 - acc: 0.9948 - val_loss: 0.8958 - val_acc: 0.8263\n",
      "Epoch 23/100\n",
      "45/45 [==============================] - 54s 1s/step - loss: 0.0276 - acc: 0.9924 - val_loss: 0.9162 - val_acc: 0.8317\n",
      "Epoch 24/100\n",
      "45/45 [==============================] - 54s 1s/step - loss: 0.0219 - acc: 0.9941 - val_loss: 0.8895 - val_acc: 0.8304\n",
      "Epoch 25/100\n",
      "45/45 [==============================] - 55s 1s/step - loss: 0.0198 - acc: 0.9955 - val_loss: 0.8405 - val_acc: 0.8386\n",
      "Epoch 26/100\n",
      "45/45 [==============================] - 54s 1s/step - loss: 0.0204 - acc: 0.9944 - val_loss: 0.8564 - val_acc: 0.8358\n",
      "Epoch 27/100\n",
      "45/45 [==============================] - 56s 1s/step - loss: 0.0159 - acc: 0.9965 - val_loss: 0.9891 - val_acc: 0.8235\n",
      "Epoch 28/100\n",
      "45/45 [==============================] - 55s 1s/step - loss: 0.0152 - acc: 0.9983 - val_loss: 0.9258 - val_acc: 0.8317\n",
      "Epoch 29/100\n",
      "45/45 [==============================] - 55s 1s/step - loss: 0.0176 - acc: 0.9951 - val_loss: 0.8733 - val_acc: 0.8304\n",
      "Epoch 30/100\n",
      "45/45 [==============================] - 54s 1s/step - loss: 0.0158 - acc: 0.9958 - val_loss: 0.8337 - val_acc: 0.8317\n",
      "Epoch 31/100\n",
      "45/45 [==============================] - 55s 1s/step - loss: 0.0238 - acc: 0.9934 - val_loss: 1.0995 - val_acc: 0.8030\n",
      "Epoch 32/100\n",
      "45/45 [==============================] - 54s 1s/step - loss: 0.0181 - acc: 0.9962 - val_loss: 0.9386 - val_acc: 0.8276\n",
      "Epoch 33/100\n",
      "45/45 [==============================] - 54s 1s/step - loss: 0.0151 - acc: 0.9962 - val_loss: 0.8329 - val_acc: 0.8372\n",
      "Epoch 34/100\n",
      "45/45 [==============================] - 54s 1s/step - loss: 0.0140 - acc: 0.9955 - val_loss: 0.8612 - val_acc: 0.8331\n",
      "Epoch 35/100\n",
      "45/45 [==============================] - 54s 1s/step - loss: 0.0195 - acc: 0.9941 - val_loss: 0.9042 - val_acc: 0.8290\n",
      "Epoch 36/100\n",
      "45/45 [==============================] - 55s 1s/step - loss: 0.0151 - acc: 0.9944 - val_loss: 0.9953 - val_acc: 0.8235\n",
      "Epoch 37/100\n",
      "45/45 [==============================] - 54s 1s/step - loss: 0.0104 - acc: 0.9983 - val_loss: 0.7988 - val_acc: 0.8468\n",
      "Epoch 38/100\n",
      "45/45 [==============================] - 54s 1s/step - loss: 0.0136 - acc: 0.9958 - val_loss: 0.9118 - val_acc: 0.8331\n",
      "Epoch 39/100\n",
      "45/45 [==============================] - 54s 1s/step - loss: 0.0136 - acc: 0.9968 - val_loss: 0.9873 - val_acc: 0.8304\n",
      "Epoch 40/100\n",
      "45/45 [==============================] - 54s 1s/step - loss: 0.0125 - acc: 0.9975 - val_loss: 0.8664 - val_acc: 0.8440\n",
      "Epoch 41/100\n",
      "45/45 [==============================] - 54s 1s/step - loss: 0.0124 - acc: 0.9965 - val_loss: 0.9871 - val_acc: 0.8290\n",
      "Epoch 42/100\n",
      "45/45 [==============================] - 54s 1s/step - loss: 0.0123 - acc: 0.9972 - val_loss: 0.8960 - val_acc: 0.8399\n",
      "Epoch 43/100\n",
      "45/45 [==============================] - 54s 1s/step - loss: 0.0099 - acc: 0.9969 - val_loss: 0.8165 - val_acc: 0.8495\n",
      "Epoch 44/100\n",
      "45/45 [==============================] - 54s 1s/step - loss: 0.0080 - acc: 0.9993 - val_loss: 0.8967 - val_acc: 0.8372\n",
      "Epoch 45/100\n",
      "45/45 [==============================] - 54s 1s/step - loss: 0.0117 - acc: 0.9958 - val_loss: 1.1022 - val_acc: 0.8112\n",
      "Epoch 46/100\n",
      "45/45 [==============================] - 55s 1s/step - loss: 0.0162 - acc: 0.9951 - val_loss: 0.9687 - val_acc: 0.8331\n",
      "Epoch 47/100\n",
      "45/45 [==============================] - 53s 1s/step - loss: 0.0091 - acc: 0.9972 - val_loss: 0.8974 - val_acc: 0.8413\n",
      "Epoch 48/100\n",
      "45/45 [==============================] - 54s 1s/step - loss: 0.0101 - acc: 0.9965 - val_loss: 0.9939 - val_acc: 0.8358\n",
      "Epoch 49/100\n",
      "45/45 [==============================] - 54s 1s/step - loss: 0.0135 - acc: 0.9969 - val_loss: 0.9026 - val_acc: 0.8440\n",
      "Epoch 50/100\n",
      "45/45 [==============================] - 54s 1s/step - loss: 0.0096 - acc: 0.9976 - val_loss: 0.9423 - val_acc: 0.8399\n",
      "Epoch 51/100\n",
      "45/45 [==============================] - 54s 1s/step - loss: 0.0107 - acc: 0.9962 - val_loss: 0.8059 - val_acc: 0.8523\n",
      "Epoch 52/100\n",
      "45/45 [==============================] - 54s 1s/step - loss: 0.0116 - acc: 0.9962 - val_loss: 0.9749 - val_acc: 0.8358\n",
      "Epoch 53/100\n",
      "45/45 [==============================] - 54s 1s/step - loss: 0.0093 - acc: 0.9976 - val_loss: 0.9667 - val_acc: 0.8386\n",
      "Epoch 54/100\n",
      "45/45 [==============================] - 54s 1s/step - loss: 0.0076 - acc: 0.9983 - val_loss: 0.9335 - val_acc: 0.8399\n",
      "Epoch 55/100\n",
      "45/45 [==============================] - 54s 1s/step - loss: 0.0065 - acc: 0.9983 - val_loss: 0.9467 - val_acc: 0.8358\n",
      "Epoch 56/100\n",
      "45/45 [==============================] - 54s 1s/step - loss: 0.0095 - acc: 0.9979 - val_loss: 1.0669 - val_acc: 0.8167\n",
      "Epoch 57/100\n",
      "45/45 [==============================] - 54s 1s/step - loss: 0.0107 - acc: 0.9972 - val_loss: 0.8636 - val_acc: 0.8440\n",
      "Epoch 58/100\n",
      "45/45 [==============================] - 54s 1s/step - loss: 0.0081 - acc: 0.9983 - val_loss: 0.9659 - val_acc: 0.8304\n",
      "Epoch 59/100\n",
      "45/45 [==============================] - 54s 1s/step - loss: 0.0077 - acc: 0.9979 - val_loss: 0.8506 - val_acc: 0.8413\n",
      "Epoch 60/100\n",
      "45/45 [==============================] - 54s 1s/step - loss: 0.0058 - acc: 0.9986 - val_loss: 0.8354 - val_acc: 0.8440\n",
      "Epoch 61/100\n",
      "45/45 [==============================] - 54s 1s/step - loss: 0.0079 - acc: 0.9972 - val_loss: 0.7811 - val_acc: 0.8509\n",
      "Epoch 62/100\n",
      "45/45 [==============================] - 54s 1s/step - loss: 0.0075 - acc: 0.9979 - val_loss: 0.9787 - val_acc: 0.8331\n",
      "Epoch 63/100\n"
     ]
    },
    {
     "name": "stdout",
     "output_type": "stream",
     "text": [
      "45/45 [==============================] - 54s 1s/step - loss: 0.0073 - acc: 0.9976 - val_loss: 0.8492 - val_acc: 0.8509\n",
      "Epoch 64/100\n",
      "45/45 [==============================] - 54s 1s/step - loss: 0.0048 - acc: 0.9993 - val_loss: 0.8926 - val_acc: 0.8427\n",
      "Epoch 65/100\n",
      "45/45 [==============================] - 54s 1s/step - loss: 0.0058 - acc: 0.9990 - val_loss: 0.8655 - val_acc: 0.8509\n",
      "Epoch 66/100\n",
      "45/45 [==============================] - 54s 1s/step - loss: 0.0114 - acc: 0.9982 - val_loss: 0.9203 - val_acc: 0.8386\n",
      "Epoch 67/100\n",
      "45/45 [==============================] - 54s 1s/step - loss: 0.0052 - acc: 0.9986 - val_loss: 0.9131 - val_acc: 0.8386\n",
      "Epoch 68/100\n",
      "45/45 [==============================] - 54s 1s/step - loss: 0.0070 - acc: 0.9983 - val_loss: 1.0267 - val_acc: 0.8208\n",
      "Epoch 69/100\n",
      "45/45 [==============================] - 54s 1s/step - loss: 0.0064 - acc: 0.9983 - val_loss: 0.9507 - val_acc: 0.8331\n",
      "Epoch 70/100\n",
      "45/45 [==============================] - 54s 1s/step - loss: 0.0039 - acc: 0.9993 - val_loss: 0.9125 - val_acc: 0.8427\n",
      "Epoch 71/100\n",
      "45/45 [==============================] - 54s 1s/step - loss: 0.0065 - acc: 0.9986 - val_loss: 0.8785 - val_acc: 0.8495\n",
      "Epoch 72/100\n",
      "45/45 [==============================] - 54s 1s/step - loss: 0.0056 - acc: 0.9990 - val_loss: 0.9911 - val_acc: 0.8358\n",
      "Epoch 73/100\n",
      "45/45 [==============================] - 54s 1s/step - loss: 0.0056 - acc: 0.9979 - val_loss: 0.9184 - val_acc: 0.8482\n",
      "Epoch 74/100\n",
      "45/45 [==============================] - 54s 1s/step - loss: 0.0067 - acc: 0.9983 - val_loss: 0.9723 - val_acc: 0.8399\n",
      "Epoch 75/100\n",
      "45/45 [==============================] - 54s 1s/step - loss: 0.0107 - acc: 0.9955 - val_loss: 0.9966 - val_acc: 0.8317\n",
      "Epoch 76/100\n",
      "45/45 [==============================] - 54s 1s/step - loss: 0.0049 - acc: 0.9986 - val_loss: 0.9177 - val_acc: 0.8509\n",
      "Epoch 77/100\n",
      "45/45 [==============================] - 54s 1s/step - loss: 0.0053 - acc: 0.9979 - val_loss: 0.8704 - val_acc: 0.8454\n",
      "Epoch 78/100\n",
      "45/45 [==============================] - 54s 1s/step - loss: 0.0043 - acc: 0.9993 - val_loss: 0.8908 - val_acc: 0.8536\n",
      "Epoch 79/100\n",
      "45/45 [==============================] - 54s 1s/step - loss: 0.0066 - acc: 0.9979 - val_loss: 0.9879 - val_acc: 0.8495\n",
      "Epoch 80/100\n",
      "45/45 [==============================] - 54s 1s/step - loss: 0.0045 - acc: 0.9986 - val_loss: 0.8685 - val_acc: 0.8605\n",
      "Epoch 81/100\n",
      "45/45 [==============================] - 54s 1s/step - loss: 0.0089 - acc: 0.9979 - val_loss: 0.8559 - val_acc: 0.8591\n",
      "Epoch 82/100\n",
      "45/45 [==============================] - 54s 1s/step - loss: 0.0036 - acc: 0.9993 - val_loss: 1.0473 - val_acc: 0.8372\n",
      "Epoch 83/100\n",
      "45/45 [==============================] - 54s 1s/step - loss: 0.0030 - acc: 0.9997 - val_loss: 0.8674 - val_acc: 0.8577\n",
      "Epoch 84/100\n",
      "45/45 [==============================] - 54s 1s/step - loss: 0.0055 - acc: 0.9979 - val_loss: 0.8326 - val_acc: 0.8550\n",
      "Epoch 85/100\n",
      "45/45 [==============================] - 54s 1s/step - loss: 0.0037 - acc: 0.9990 - val_loss: 0.7601 - val_acc: 0.8591\n",
      "Epoch 86/100\n",
      "45/45 [==============================] - 54s 1s/step - loss: 0.0049 - acc: 0.9990 - val_loss: 0.9174 - val_acc: 0.8468\n",
      "Epoch 87/100\n",
      "45/45 [==============================] - 54s 1s/step - loss: 0.0075 - acc: 0.9979 - val_loss: 0.7390 - val_acc: 0.8673\n",
      "Epoch 88/100\n",
      "45/45 [==============================] - 54s 1s/step - loss: 0.0060 - acc: 0.9986 - val_loss: 0.8380 - val_acc: 0.8605\n",
      "Epoch 89/100\n",
      "45/45 [==============================] - 54s 1s/step - loss: 0.0037 - acc: 0.9990 - val_loss: 0.7884 - val_acc: 0.8673\n",
      "Epoch 90/100\n",
      "45/45 [==============================] - 54s 1s/step - loss: 0.0063 - acc: 0.9979 - val_loss: 0.9898 - val_acc: 0.8482\n",
      "Epoch 91/100\n",
      "45/45 [==============================] - 54s 1s/step - loss: 0.0049 - acc: 0.9986 - val_loss: 0.8848 - val_acc: 0.8523\n",
      "Epoch 92/100\n",
      "45/45 [==============================] - 54s 1s/step - loss: 0.0039 - acc: 0.9993 - val_loss: 0.8630 - val_acc: 0.8536\n",
      "Epoch 93/100\n",
      "45/45 [==============================] - 55s 1s/step - loss: 0.0044 - acc: 0.9990 - val_loss: 0.8709 - val_acc: 0.8564\n",
      "Epoch 94/100\n",
      "45/45 [==============================] - 55s 1s/step - loss: 0.0035 - acc: 0.9990 - val_loss: 0.8617 - val_acc: 0.8523\n",
      "Epoch 95/100\n",
      "45/45 [==============================] - 54s 1s/step - loss: 0.0051 - acc: 0.9990 - val_loss: 0.9687 - val_acc: 0.8427\n",
      "Epoch 96/100\n",
      "45/45 [==============================] - 54s 1s/step - loss: 0.0058 - acc: 0.9983 - val_loss: 0.8026 - val_acc: 0.8659\n",
      "Epoch 97/100\n",
      "45/45 [==============================] - 54s 1s/step - loss: 0.0036 - acc: 0.9990 - val_loss: 1.0065 - val_acc: 0.8468\n",
      "Epoch 98/100\n",
      "45/45 [==============================] - 54s 1s/step - loss: 0.0040 - acc: 0.9990 - val_loss: 1.0990 - val_acc: 0.8358\n",
      "Epoch 99/100\n",
      "45/45 [==============================] - 54s 1s/step - loss: 0.0087 - acc: 0.9972 - val_loss: 1.0517 - val_acc: 0.8468\n",
      "Epoch 100/100\n",
      "45/45 [==============================] - 54s 1s/step - loss: 0.0030 - acc: 0.9997 - val_loss: 0.9355 - val_acc: 0.8618\n"
     ]
    }
   ],
   "source": [
    "batch_size = 64\n",
    "epochs = 100\n",
    "\n",
    "schedule = SGDRScheduler(min_lr=1e-5,\n",
    "                         max_lr=1e-3,\n",
    "                         steps_per_epoch=np.ceil(len(X_train/batch_size)),\n",
    "                         lr_decay=0.9,\n",
    "                         cycle_length=10,\n",
    "                         mult_factor=1.5)\n",
    "\n",
    "history = new_model.fit_generator(datagen.flow(X_train, y_train, batch_size=batch_size),\n",
    "                                  epochs=epochs, validation_data = (X_test, y_test),\n",
    "                                  verbose=1, steps_per_epoch=X_train.shape[0] // batch_size, \n",
    "                                  callbacks=[schedule])"
   ]
  },
  {
   "cell_type": "markdown",
   "metadata": {},
   "source": [
    "We got an improvement of 6%., but the model training reached saturation. Let's take an aggressive approach to data augmentation:"
   ]
  },
  {
   "cell_type": "code",
   "execution_count": 226,
   "metadata": {},
   "outputs": [],
   "source": [
    "datagen = ImageDataGenerator(\n",
    "        featurewise_center=False,  # set input mean to 0 over the dataset\n",
    "        samplewise_center=False,  # set each sample mean to 0\n",
    "        featurewise_std_normalization=False,  # divide inputs by std of the dataset\n",
    "        samplewise_std_normalization=False,  # divide each input by its std\n",
    "        zca_whitening=False,  # apply ZCA whitening\n",
    "        rotation_range=20,  # randomly rotate images in the range (degrees, 0 to 180)\n",
    "        zoom_range = 0.3, # Randomly zoom image \n",
    "        width_shift_range=0.3,  # randomly shift images horizontally (fraction of total width)\n",
    "        height_shift_range=0.3,  # randomly shift images vertically (fraction of total height)\n",
    "        horizontal_flip=True,  # randomly flip images\n",
    "        vertical_flip=False)  # randomly flip images\n",
    "\n",
    "datagen.fit(X_train)"
   ]
  },
  {
   "cell_type": "code",
   "execution_count": 227,
   "metadata": {},
   "outputs": [
    {
     "name": "stdout",
     "output_type": "stream",
     "text": [
      "Epoch 1/50\n",
      "45/45 [==============================] - 64s 1s/step - loss: 0.0825 - acc: 0.9722 - val_loss: 0.7415 - val_acc: 0.8659\n",
      "Epoch 2/50\n",
      "45/45 [==============================] - 53s 1s/step - loss: 0.0770 - acc: 0.9747 - val_loss: 0.7709 - val_acc: 0.8782\n",
      "Epoch 3/50\n",
      "45/45 [==============================] - 55s 1s/step - loss: 0.0750 - acc: 0.9746 - val_loss: 0.7134 - val_acc: 0.8851\n",
      "Epoch 4/50\n",
      "45/45 [==============================] - 53s 1s/step - loss: 0.0596 - acc: 0.9802 - val_loss: 0.8251 - val_acc: 0.8591\n",
      "Epoch 5/50\n",
      "45/45 [==============================] - 53s 1s/step - loss: 0.0586 - acc: 0.9792 - val_loss: 0.7143 - val_acc: 0.8673\n",
      "Epoch 6/50\n",
      "45/45 [==============================] - 55s 1s/step - loss: 0.0519 - acc: 0.9816 - val_loss: 0.6667 - val_acc: 0.8974\n",
      "Epoch 7/50\n",
      "45/45 [==============================] - 56s 1s/step - loss: 0.0560 - acc: 0.9798 - val_loss: 0.6666 - val_acc: 0.8851\n",
      "Epoch 8/50\n",
      "45/45 [==============================] - 54s 1s/step - loss: 0.0463 - acc: 0.9851 - val_loss: 0.5662 - val_acc: 0.8988\n",
      "Epoch 9/50\n",
      "45/45 [==============================] - 54s 1s/step - loss: 0.0377 - acc: 0.9868 - val_loss: 0.6798 - val_acc: 0.8851\n",
      "Epoch 10/50\n",
      "45/45 [==============================] - 54s 1s/step - loss: 0.0443 - acc: 0.9840 - val_loss: 0.8104 - val_acc: 0.8618\n",
      "Epoch 11/50\n",
      "45/45 [==============================] - 54s 1s/step - loss: 0.0435 - acc: 0.9858 - val_loss: 0.8737 - val_acc: 0.8550\n",
      "Epoch 12/50\n",
      "45/45 [==============================] - 55s 1s/step - loss: 0.0408 - acc: 0.9861 - val_loss: 0.8965 - val_acc: 0.8482\n",
      "Epoch 13/50\n",
      "45/45 [==============================] - 54s 1s/step - loss: 0.0328 - acc: 0.9906 - val_loss: 0.6998 - val_acc: 0.8824\n",
      "Epoch 14/50\n",
      "45/45 [==============================] - 54s 1s/step - loss: 0.0296 - acc: 0.9889 - val_loss: 0.7884 - val_acc: 0.8714\n",
      "Epoch 15/50\n",
      "45/45 [==============================] - 55s 1s/step - loss: 0.0338 - acc: 0.9892 - val_loss: 0.7180 - val_acc: 0.8741\n",
      "Epoch 16/50\n",
      "45/45 [==============================] - 54s 1s/step - loss: 0.0250 - acc: 0.9917 - val_loss: 0.7526 - val_acc: 0.8673\n",
      "Epoch 17/50\n",
      "45/45 [==============================] - 53s 1s/step - loss: 0.0316 - acc: 0.9882 - val_loss: 0.6806 - val_acc: 0.8728\n",
      "Epoch 18/50\n",
      "45/45 [==============================] - 54s 1s/step - loss: 0.0302 - acc: 0.9889 - val_loss: 0.7641 - val_acc: 0.8605\n",
      "Epoch 19/50\n",
      "45/45 [==============================] - 54s 1s/step - loss: 0.0343 - acc: 0.9885 - val_loss: 0.6130 - val_acc: 0.8906\n",
      "Epoch 20/50\n",
      "45/45 [==============================] - 55s 1s/step - loss: 0.0336 - acc: 0.9903 - val_loss: 0.6783 - val_acc: 0.8810\n",
      "Epoch 21/50\n",
      "45/45 [==============================] - 54s 1s/step - loss: 0.0301 - acc: 0.9913 - val_loss: 0.6179 - val_acc: 0.8878\n",
      "Epoch 22/50\n",
      "45/45 [==============================] - 54s 1s/step - loss: 0.0289 - acc: 0.9902 - val_loss: 0.6836 - val_acc: 0.8837\n",
      "Epoch 23/50\n",
      "45/45 [==============================] - 54s 1s/step - loss: 0.0316 - acc: 0.9895 - val_loss: 0.6493 - val_acc: 0.8906\n",
      "Epoch 24/50\n",
      "45/45 [==============================] - 54s 1s/step - loss: 0.0235 - acc: 0.9916 - val_loss: 0.6390 - val_acc: 0.8837\n",
      "Epoch 25/50\n",
      "45/45 [==============================] - 54s 1s/step - loss: 0.0226 - acc: 0.9931 - val_loss: 0.6435 - val_acc: 0.8878\n",
      "Epoch 26/50\n",
      "45/45 [==============================] - 54s 1s/step - loss: 0.0304 - acc: 0.9923 - val_loss: 0.6471 - val_acc: 0.8837\n",
      "Epoch 27/50\n",
      "45/45 [==============================] - 54s 1s/step - loss: 0.0257 - acc: 0.9920 - val_loss: 0.7656 - val_acc: 0.8741\n",
      "Epoch 28/50\n",
      "45/45 [==============================] - 54s 1s/step - loss: 0.0316 - acc: 0.9892 - val_loss: 0.6563 - val_acc: 0.8892\n",
      "Epoch 29/50\n",
      "45/45 [==============================] - 55s 1s/step - loss: 0.0230 - acc: 0.9934 - val_loss: 0.6793 - val_acc: 0.8865\n",
      "Epoch 30/50\n",
      "45/45 [==============================] - 54s 1s/step - loss: 0.0306 - acc: 0.9902 - val_loss: 0.6025 - val_acc: 0.8974\n",
      "Epoch 31/50\n",
      "45/45 [==============================] - 54s 1s/step - loss: 0.0295 - acc: 0.9899 - val_loss: 0.8324 - val_acc: 0.8577\n",
      "Epoch 32/50\n",
      "45/45 [==============================] - 55s 1s/step - loss: 0.0264 - acc: 0.9903 - val_loss: 0.7428 - val_acc: 0.8714\n",
      "Epoch 33/50\n",
      "45/45 [==============================] - 54s 1s/step - loss: 0.0241 - acc: 0.9944 - val_loss: 0.8397 - val_acc: 0.8509\n",
      "Epoch 34/50\n",
      "45/45 [==============================] - 54s 1s/step - loss: 0.0285 - acc: 0.9910 - val_loss: 0.6373 - val_acc: 0.8933\n",
      "Epoch 35/50\n",
      "45/45 [==============================] - 54s 1s/step - loss: 0.0176 - acc: 0.9955 - val_loss: 0.6512 - val_acc: 0.8865\n",
      "Epoch 36/50\n",
      "45/45 [==============================] - 56s 1s/step - loss: 0.0178 - acc: 0.9948 - val_loss: 0.7361 - val_acc: 0.8782\n",
      "Epoch 37/50\n",
      "45/45 [==============================] - 54s 1s/step - loss: 0.0246 - acc: 0.9940 - val_loss: 0.7048 - val_acc: 0.8782\n",
      "Epoch 38/50\n",
      "45/45 [==============================] - 54s 1s/step - loss: 0.0213 - acc: 0.9934 - val_loss: 0.8040 - val_acc: 0.8591\n",
      "Epoch 39/50\n",
      "45/45 [==============================] - 54s 1s/step - loss: 0.0293 - acc: 0.9906 - val_loss: 0.4636 - val_acc: 0.9124\n",
      "Epoch 40/50\n",
      "45/45 [==============================] - 54s 1s/step - loss: 0.0220 - acc: 0.9923 - val_loss: 0.5350 - val_acc: 0.8960\n",
      "Epoch 41/50\n",
      "45/45 [==============================] - 54s 1s/step - loss: 0.0230 - acc: 0.9944 - val_loss: 0.5811 - val_acc: 0.8933\n",
      "Epoch 42/50\n",
      "45/45 [==============================] - 54s 1s/step - loss: 0.0233 - acc: 0.9916 - val_loss: 0.6304 - val_acc: 0.8933\n",
      "Epoch 43/50\n",
      "45/45 [==============================] - 54s 1s/step - loss: 0.0266 - acc: 0.9910 - val_loss: 0.6085 - val_acc: 0.8878\n",
      "Epoch 44/50\n",
      "45/45 [==============================] - 55s 1s/step - loss: 0.0160 - acc: 0.9962 - val_loss: 0.7193 - val_acc: 0.8700\n",
      "Epoch 45/50\n",
      "45/45 [==============================] - 54s 1s/step - loss: 0.0222 - acc: 0.9934 - val_loss: 0.6388 - val_acc: 0.8933\n",
      "Epoch 46/50\n",
      "45/45 [==============================] - 54s 1s/step - loss: 0.0169 - acc: 0.9951 - val_loss: 0.6144 - val_acc: 0.8960\n",
      "Epoch 47/50\n",
      "45/45 [==============================] - 54s 1s/step - loss: 0.0196 - acc: 0.9941 - val_loss: 0.6647 - val_acc: 0.8810\n",
      "Epoch 48/50\n",
      "45/45 [==============================] - 54s 1s/step - loss: 0.0254 - acc: 0.9927 - val_loss: 0.5918 - val_acc: 0.8933\n",
      "Epoch 49/50\n",
      "45/45 [==============================] - 54s 1s/step - loss: 0.0197 - acc: 0.9937 - val_loss: 0.6476 - val_acc: 0.8892\n",
      "Epoch 50/50\n",
      "45/45 [==============================] - 54s 1s/step - loss: 0.0256 - acc: 0.9920 - val_loss: 0.6812 - val_acc: 0.8769\n"
     ]
    }
   ],
   "source": [
    "batch_size = 64\n",
    "epochs = 50\n",
    "\n",
    "history = new_model.fit_generator(datagen.flow(X_train, y_train, batch_size=batch_size),\n",
    "                                  epochs=epochs, validation_data = (X_test, y_test),\n",
    "                                  verbose=1, steps_per_epoch=X_train.shape[0] // batch_size, \n",
    "                                  callbacks=[schedule])"
   ]
  },
  {
   "cell_type": "markdown",
   "metadata": {},
   "source": [
    "The model reached a max precision of 91.2% during training. The issue is still that no overall improvement was achieved, and overfitting can be the cause. Let's apply some regularization to the model:"
   ]
  },
  {
   "cell_type": "code",
   "execution_count": 230,
   "metadata": {},
   "outputs": [],
   "source": [
    "from keras.regularizers import l2\n",
    "\n",
    "bottleneck_model.layers[-23].kernel_regularizer=l2(1e-4)\n",
    "bottleneck_model.layers[-22].kernel_regularizer=l2(1e-4)\n",
    "bottleneck_model.layers[-21].kernel_regularizer=l2(1e-4)\n",
    "bottleneck_model.layers[-20].kernel_regularizer=l2(1e-4)\n",
    "bottleneck_model.layers[-18].kernel_regularizer=l2(1e-4)\n",
    "bottleneck_model.layers[-13].kernel_regularizer=l2(1e-4)"
   ]
  },
  {
   "cell_type": "code",
   "execution_count": 232,
   "metadata": {},
   "outputs": [],
   "source": [
    "# Define the optimizer\n",
    "optimizer = Adam(lr=0.0033)\n",
    "\n",
    "newer_model = Sequential()\n",
    "newer_model.add(bottleneck_model)\n",
    "newer_model.add(new_model.layers[-1])\n",
    "# Compile the model\n",
    "newer_model.compile(optimizer=optimizer, loss=\"categorical_crossentropy\", metrics=[\"accuracy\"])"
   ]
  },
  {
   "cell_type": "code",
   "execution_count": 234,
   "metadata": {},
   "outputs": [
    {
     "name": "stdout",
     "output_type": "stream",
     "text": [
      "Epoch 1/50\n",
      " 2/45 [>.............................] - ETA: 2:29 - loss: 0.0194 - acc: 1.0000"
     ]
    },
    {
     "name": "stderr",
     "output_type": "stream",
     "text": [
      "C:\\Users\\barro\\Anaconda3\\lib\\site-packages\\keras\\callbacks.py:122: UserWarning: Method on_batch_end() is slow compared to the batch update (0.875229). Check your callbacks.\n",
      "  % delta_t_median)\n"
     ]
    },
    {
     "name": "stdout",
     "output_type": "stream",
     "text": [
      "45/45 [==============================] - 61s 1s/step - loss: 0.0569 - acc: 0.9816 - val_loss: 0.7602 - val_acc: 0.8687\n",
      "Epoch 2/50\n",
      "45/45 [==============================] - 52s 1s/step - loss: 0.0530 - acc: 0.9823 - val_loss: 0.9104 - val_acc: 0.8482\n",
      "Epoch 3/50\n",
      "45/45 [==============================] - 54s 1s/step - loss: 0.0430 - acc: 0.9850 - val_loss: 0.8196 - val_acc: 0.8577\n",
      "Epoch 4/50\n",
      "45/45 [==============================] - 55s 1s/step - loss: 0.0520 - acc: 0.9826 - val_loss: 0.6153 - val_acc: 0.8865\n",
      "Epoch 5/50\n",
      "45/45 [==============================] - 55s 1s/step - loss: 0.0471 - acc: 0.9840 - val_loss: 0.6746 - val_acc: 0.8741\n",
      "Epoch 6/50\n",
      "45/45 [==============================] - 55s 1s/step - loss: 0.0367 - acc: 0.9878 - val_loss: 0.6622 - val_acc: 0.8810\n",
      "Epoch 7/50\n",
      "45/45 [==============================] - 55s 1s/step - loss: 0.0358 - acc: 0.9857 - val_loss: 0.5874 - val_acc: 0.8960\n",
      "Epoch 8/50\n",
      "45/45 [==============================] - 55s 1s/step - loss: 0.0420 - acc: 0.9854 - val_loss: 0.7543 - val_acc: 0.8673\n",
      "Epoch 9/50\n",
      "45/45 [==============================] - 54s 1s/step - loss: 0.0371 - acc: 0.9864 - val_loss: 0.6665 - val_acc: 0.8851\n",
      "Epoch 10/50\n",
      "45/45 [==============================] - 55s 1s/step - loss: 0.0309 - acc: 0.9896 - val_loss: 0.7028 - val_acc: 0.8824\n",
      "Epoch 11/50\n",
      "45/45 [==============================] - 55s 1s/step - loss: 0.0370 - acc: 0.9889 - val_loss: 0.7030 - val_acc: 0.8824\n",
      "Epoch 12/50\n",
      "45/45 [==============================] - 54s 1s/step - loss: 0.0333 - acc: 0.9906 - val_loss: 0.7128 - val_acc: 0.8769\n",
      "Epoch 13/50\n",
      "45/45 [==============================] - 55s 1s/step - loss: 0.0310 - acc: 0.9899 - val_loss: 0.6221 - val_acc: 0.8892\n",
      "Epoch 14/50\n",
      "45/45 [==============================] - 54s 1s/step - loss: 0.0395 - acc: 0.9878 - val_loss: 0.6729 - val_acc: 0.8755\n",
      "Epoch 15/50\n",
      "45/45 [==============================] - 55s 1s/step - loss: 0.0262 - acc: 0.9927 - val_loss: 0.5858 - val_acc: 0.8837\n",
      "Epoch 16/50\n",
      "45/45 [==============================] - 54s 1s/step - loss: 0.0303 - acc: 0.9906 - val_loss: 0.7146 - val_acc: 0.8824\n",
      "Epoch 17/50\n",
      "45/45 [==============================] - 55s 1s/step - loss: 0.0326 - acc: 0.9878 - val_loss: 0.7052 - val_acc: 0.8782\n",
      "Epoch 18/50\n",
      "45/45 [==============================] - 55s 1s/step - loss: 0.0318 - acc: 0.9916 - val_loss: 0.6617 - val_acc: 0.8824\n",
      "Epoch 19/50\n",
      "45/45 [==============================] - 55s 1s/step - loss: 0.0290 - acc: 0.9920 - val_loss: 0.6074 - val_acc: 0.8933\n",
      "Epoch 20/50\n",
      "45/45 [==============================] - 55s 1s/step - loss: 0.0325 - acc: 0.9885 - val_loss: 0.6674 - val_acc: 0.8837\n",
      "Epoch 21/50\n",
      "45/45 [==============================] - 55s 1s/step - loss: 0.0264 - acc: 0.9920 - val_loss: 0.6159 - val_acc: 0.8974\n",
      "Epoch 22/50\n",
      "45/45 [==============================] - 55s 1s/step - loss: 0.0389 - acc: 0.9882 - val_loss: 0.6519 - val_acc: 0.8906\n",
      "Epoch 23/50\n",
      "45/45 [==============================] - 55s 1s/step - loss: 0.0328 - acc: 0.9872 - val_loss: 0.6360 - val_acc: 0.8865\n",
      "Epoch 24/50\n",
      "45/45 [==============================] - 54s 1s/step - loss: 0.0233 - acc: 0.9944 - val_loss: 0.6491 - val_acc: 0.8837\n",
      "Epoch 25/50\n",
      "45/45 [==============================] - 55s 1s/step - loss: 0.0211 - acc: 0.9937 - val_loss: 0.6911 - val_acc: 0.8796\n",
      "Epoch 26/50\n",
      "45/45 [==============================] - 55s 1s/step - loss: 0.0209 - acc: 0.9931 - val_loss: 0.6713 - val_acc: 0.8824\n",
      "Epoch 27/50\n",
      "45/45 [==============================] - 54s 1s/step - loss: 0.0229 - acc: 0.9913 - val_loss: 0.7763 - val_acc: 0.8618\n",
      "Epoch 28/50\n",
      "45/45 [==============================] - 54s 1s/step - loss: 0.0272 - acc: 0.9910 - val_loss: 0.8345 - val_acc: 0.8591\n",
      "Epoch 29/50\n",
      "45/45 [==============================] - 54s 1s/step - loss: 0.0245 - acc: 0.9923 - val_loss: 0.8054 - val_acc: 0.8659\n",
      "Epoch 30/50\n",
      "45/45 [==============================] - 55s 1s/step - loss: 0.0209 - acc: 0.9920 - val_loss: 0.7677 - val_acc: 0.8673\n",
      "Epoch 31/50\n",
      "45/45 [==============================] - 54s 1s/step - loss: 0.0245 - acc: 0.9920 - val_loss: 0.8563 - val_acc: 0.8523\n",
      "Epoch 32/50\n",
      "45/45 [==============================] - 54s 1s/step - loss: 0.0223 - acc: 0.9913 - val_loss: 0.6445 - val_acc: 0.8810\n",
      "Epoch 33/50\n",
      "45/45 [==============================] - 54s 1s/step - loss: 0.0330 - acc: 0.9875 - val_loss: 0.7402 - val_acc: 0.8700\n",
      "Epoch 34/50\n",
      "45/45 [==============================] - 54s 1s/step - loss: 0.0169 - acc: 0.9955 - val_loss: 0.7986 - val_acc: 0.8646\n",
      "Epoch 35/50\n",
      "45/45 [==============================] - 54s 1s/step - loss: 0.0237 - acc: 0.9934 - val_loss: 0.7044 - val_acc: 0.8796\n",
      "Epoch 36/50\n",
      "45/45 [==============================] - 54s 1s/step - loss: 0.0263 - acc: 0.9923 - val_loss: 0.6654 - val_acc: 0.8769\n",
      "Epoch 37/50\n",
      "45/45 [==============================] - 54s 1s/step - loss: 0.0225 - acc: 0.9924 - val_loss: 0.6513 - val_acc: 0.8892\n",
      "Epoch 38/50\n",
      "45/45 [==============================] - 54s 1s/step - loss: 0.0255 - acc: 0.9920 - val_loss: 0.6859 - val_acc: 0.8741\n",
      "Epoch 39/50\n",
      "45/45 [==============================] - 55s 1s/step - loss: 0.0184 - acc: 0.9951 - val_loss: 0.5830 - val_acc: 0.8974\n",
      "Epoch 40/50\n",
      "45/45 [==============================] - 54s 1s/step - loss: 0.0204 - acc: 0.9917 - val_loss: 0.6681 - val_acc: 0.8892\n",
      "Epoch 41/50\n",
      "45/45 [==============================] - 55s 1s/step - loss: 0.0230 - acc: 0.9931 - val_loss: 0.6509 - val_acc: 0.8878\n",
      "Epoch 42/50\n",
      "45/45 [==============================] - 55s 1s/step - loss: 0.0201 - acc: 0.9941 - val_loss: 0.6805 - val_acc: 0.8824\n",
      "Epoch 43/50\n",
      "45/45 [==============================] - 55s 1s/step - loss: 0.0219 - acc: 0.9924 - val_loss: 0.6582 - val_acc: 0.8919\n",
      "Epoch 44/50\n",
      "45/45 [==============================] - 58s 1s/step - loss: 0.0136 - acc: 0.9976 - val_loss: 0.7061 - val_acc: 0.8782\n",
      "Epoch 45/50\n",
      "45/45 [==============================] - 54s 1s/step - loss: 0.0259 - acc: 0.9913 - val_loss: 0.7475 - val_acc: 0.8741\n",
      "Epoch 46/50\n",
      "45/45 [==============================] - 54s 1s/step - loss: 0.0190 - acc: 0.9944 - val_loss: 0.6961 - val_acc: 0.8810\n",
      "Epoch 47/50\n",
      "45/45 [==============================] - 54s 1s/step - loss: 0.0243 - acc: 0.9927 - val_loss: 0.6184 - val_acc: 0.8974\n",
      "Epoch 48/50\n",
      "45/45 [==============================] - 54s 1s/step - loss: 0.0220 - acc: 0.9927 - val_loss: 0.6143 - val_acc: 0.8988\n",
      "Epoch 49/50\n",
      "45/45 [==============================] - 55s 1s/step - loss: 0.0262 - acc: 0.9913 - val_loss: 0.6677 - val_acc: 0.8878\n",
      "Epoch 50/50\n",
      "45/45 [==============================] - 54s 1s/step - loss: 0.0216 - acc: 0.9916 - val_loss: 0.7401 - val_acc: 0.8824\n"
     ]
    }
   ],
   "source": [
    "history = newer_model.fit_generator(datagen.flow(X_train, y_train, batch_size=batch_size),\n",
    "                                  epochs=epochs, validation_data = (X_test, y_test),\n",
    "                                  verbose=1, steps_per_epoch=X_train.shape[0] // batch_size, \n",
    "                                  callbacks=[schedule])"
   ]
  },
  {
   "cell_type": "markdown",
   "metadata": {},
   "source": [
    "No improvement. Of course we could go on and unfreeze more layers. But I believe that data augmentation would be a better way out. Unfortunately, I couldn't apply more transformation to the data due to MemoryError. This has to be investigated, as there might be alternatives to handle this (using Spark, or even Dask).\n",
    "\n",
    "As a side note: this [great blog post](https://kwotsin.github.io/tech/2017/02/11/transfer-learning.html) goes into more details and reaches 96% accuracy."
   ]
  },
  {
   "cell_type": "code",
   "execution_count": null,
   "metadata": {},
   "outputs": [],
   "source": []
  }
 ],
 "metadata": {
  "kernelspec": {
   "display_name": "Python 3",
   "language": "python",
   "name": "python3"
  },
  "language_info": {
   "codemirror_mode": {
    "name": "ipython",
    "version": 3
   },
   "file_extension": ".py",
   "mimetype": "text/x-python",
   "name": "python",
   "nbconvert_exporter": "python",
   "pygments_lexer": "ipython3",
   "version": "3.6.8"
  },
  "nav_menu": {},
  "toc": {
   "navigate_menu": true,
   "number_sections": true,
   "sideBar": true,
   "threshold": 6,
   "toc_cell": false,
   "toc_section_display": "block",
   "toc_window_display": false
  }
 },
 "nbformat": 4,
 "nbformat_minor": 1
}
